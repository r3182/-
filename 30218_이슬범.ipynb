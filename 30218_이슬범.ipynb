{
 "cells": [
  {
   "cell_type": "code",
   "execution_count": 2,
   "metadata": {
    "colab": {
     "base_uri": "https://localhost:8080/"
    },
    "id": "cK7PHqV5EsEw",
    "outputId": "0697855b-ebeb-4445-ddd9-4d03e8c32137"
   },
   "outputs": [
    {
     "name": "stdout",
     "output_type": "stream",
     "text": [
      "Looking in indexes: https://pypi.org/simple, https://us-python.pkg.dev/colab-wheels/public/simple/\n",
      "Collecting biopython\n",
      "  Downloading biopython-1.79-cp37-cp37m-manylinux_2_5_x86_64.manylinux1_x86_64.whl (2.3 MB)\n",
      "\u001b[K     |████████████████████████████████| 2.3 MB 28.7 MB/s \n",
      "\u001b[?25hRequirement already satisfied: numpy in /usr/local/lib/python3.7/dist-packages (from biopython) (1.21.6)\n",
      "Installing collected packages: biopython\n",
      "Successfully installed biopython-1.79\n"
     ]
    }
   ],
   "source": [
    "try:\n",
    "    import google.colab\n",
    "    # Running on Google Colab, so install Biopython first\n",
    "    !pip install biopython\n",
    "except ImportError:\n",
    "    pass"
   ]
  },
  {
   "cell_type": "code",
   "execution_count": 3,
   "metadata": {
    "colab": {
     "base_uri": "https://localhost:8080/"
    },
    "id": "rkuIGedafBEK",
    "outputId": "6a97a4e1-f9d0-4517-e65f-203f97d594c6"
   },
   "outputs": [
    {
     "name": "stdout",
     "output_type": "stream",
     "text": [
      "Python version: sys.version_info(major=3, minor=7, micro=13, releaselevel='final', serial=0)\n",
      "Biopython version: 1.79\n"
     ]
    }
   ],
   "source": [
    "import os\n",
    "import sys\n",
    "\n",
    "from urllib.request import urlretrieve\n",
    "\n",
    "import Bio\n",
    "from Bio import SeqIO, SearchIO, Entrez\n",
    "from Bio.Seq import Seq\n",
    "from Bio.SeqUtils import GC\n",
    "from Bio.Blast import NCBIWWW\n",
    "from Bio.Data import CodonTable\n",
    "\n",
    "print(\"Python version:\", sys.version_info)\n",
    "print(\"Biopython version:\", Bio.__version__)"
   ]
  },
  {
   "cell_type": "code",
   "execution_count": 4,
   "metadata": {
    "colab": {
     "base_uri": "https://localhost:8080/"
    },
    "id": "6X_oTPQjfCML",
    "outputId": "c5fe1f1e-3aa8-4f81-f320-bf85bd6cf6ed"
   },
   "outputs": [
    {
     "name": "stdout",
     "output_type": "stream",
     "text": [
      "ATGTGGTGGTGGTGGTGGTGGTGGTGGTGGTGGCAT\n"
     ]
    }
   ],
   "source": [
    "Met=\"ATG\"\n",
    "Trp=\"TGG\" *10\n",
    "His=\"CAT\"\n",
    "\n",
    "seq=Met+Trp+His\n",
    "print(seq)"
   ]
  },
  {
   "cell_type": "code",
   "execution_count": 5,
   "metadata": {
    "colab": {
     "base_uri": "https://localhost:8080/"
    },
    "id": "Li1yodhNfS79",
    "outputId": "6595ddf0-9429-4aaa-ca38-42f360bfb1c6"
   },
   "outputs": [
    {
     "name": "stdout",
     "output_type": "stream",
     "text": [
      "서열: AGTTTATAGCACGTCACGTACTTAACG\n",
      "상보적 서열: TCAAATATCGTGCAGTGCATGAATTGC\n"
     ]
    }
   ],
   "source": [
    "seq=\"AGTTTATAGCACGTCACGTACTTAACG\"\n",
    "new_seq=\"\"\n",
    "for s in seq:\n",
    "  if s == \"A\":\n",
    "    new_seq +=\"T\"\n",
    "  elif s == \"C\":\n",
    "    new_seq +=\"G\"\n",
    "  elif s == \"G\":\n",
    "    new_seq +=\"C\"\n",
    "  elif s == \"T\":\n",
    "    new_seq +=\"A\"\n",
    "print(\"서열:\" ,seq)\n",
    "print(\"상보적 서열:\" , new_seq)"
   ]
  },
  {
   "cell_type": "code",
   "execution_count": 12,
   "metadata": {
    "colab": {
     "base_uri": "https://localhost:8080/"
    },
    "id": "igTDvCqJgeYE",
    "outputId": "25e9909c-fbe4-4fcc-9e9d-943e9487d403"
   },
   "outputs": [
    {
     "name": "stdout",
     "output_type": "stream",
     "text": [
      "서열: AGTTTATAGCCGATCATCGAC\n",
      "상보적 서열: TCAAATATCGGCTAGTAGCTG\n",
      "역상보적 서열 GTCGATGATCGGCTATAAACT\n"
     ]
    }
   ],
   "source": [
    "seq=\"AGTTTATAGCCGATCATCGAC\"\n",
    "comp_dic={'A':'T', 'C':'G', 'G':'C', 'T':'A'}\n",
    "comp_seq=\"\"\n",
    "\n",
    "for s in seq:\n",
    "  comp_seq += comp_dic[s]\n",
    "\n",
    "revcomp_seq = comp_seq[::-1]\n",
    "\n",
    "print(\"서열:\" ,seq)\n",
    "print(\"상보적 서열:\" ,comp_seq)\n",
    "print(\"역상보적 서열\", revcomp_seq)"
   ]
  },
  {
   "cell_type": "code",
   "execution_count": 13,
   "metadata": {
    "id": "RoWaIrG7h9Eu"
   },
   "outputs": [],
   "source": [
    "from Bio.Seq import Seq"
   ]
  },
  {
   "cell_type": "code",
   "execution_count": 16,
   "metadata": {
    "id": "rJEmYRfYjC0L"
   },
   "outputs": [],
   "source": [
    "seq = Seq(\"TTCCACAACATTCCACCAAGCTCTGCAGGATCCCAGAGTAAGAGGCCTGTATTTTCCTGCTGGTGGCTCCAGTTCCGGAACAGTGAACCCTGTTCCGACTACTGCCTCACTC\")"
   ]
  },
  {
   "cell_type": "code",
   "execution_count": 17,
   "metadata": {
    "colab": {
     "base_uri": "https://localhost:8080/"
    },
    "id": "OznXhYs2kIWE",
    "outputId": "4a787063-fb41-4920-e779-4c9acc61cf45"
   },
   "outputs": [
    {
     "name": "stdout",
     "output_type": "stream",
     "text": [
      "24\n"
     ]
    }
   ],
   "source": [
    "print(seq.count(\"A\"))"
   ]
  },
  {
   "cell_type": "code",
   "execution_count": 19,
   "metadata": {
    "colab": {
     "base_uri": "https://localhost:8080/"
    },
    "id": "3sTv8TbfkKHO",
    "outputId": "60e26659-00cc-4c75-fa1d-c0a8b4cdbd51"
   },
   "outputs": [
    {
     "name": "stdout",
     "output_type": "stream",
     "text": [
      "112\n"
     ]
    }
   ],
   "source": [
    "print(len(seq))"
   ]
  },
  {
   "cell_type": "code",
   "execution_count": 21,
   "metadata": {
    "colab": {
     "base_uri": "https://localhost:8080/"
    },
    "id": "iJjSDgaJkVy4",
    "outputId": "eb877a90-31c2-42dd-e3ec-35c457ce5499"
   },
   "outputs": [
    {
     "name": "stdout",
     "output_type": "stream",
     "text": [
      "AAGGTGTTGTAAGGTGGTTCGAGACGTCCTAGGGTCTCATTCTCCGGACATAAAAGGACGACCACCGAGGTCAAGGCCTTGTCACTTGGGACAAGGCTGATGACGGAGTGAG\n"
     ]
    }
   ],
   "source": [
    "print(seq.complement())"
   ]
  },
  {
   "cell_type": "code",
   "execution_count": 23,
   "metadata": {
    "colab": {
     "base_uri": "https://localhost:8080/"
    },
    "id": "iQ_T6j4kk0DC",
    "outputId": "a044c6ce-49b8-4507-f082-6351cc0a51c5"
   },
   "outputs": [
    {
     "name": "stderr",
     "output_type": "stream",
     "text": [
      "/usr/local/lib/python3.7/dist-packages/Bio/Seq.py:2983: BiopythonWarning: Partial codon, len(sequence) not a multiple of three. Explicitly trim the sequence or add trailing N before translation. This may become an error in future.\n",
      "  BiopythonWarning,\n"
     ]
    }
   ],
   "source": [
    "dna=Seq(\"TTCCACAACATTCCACCAAGCTCTGCAGGATCCCAGAGTAAGAGGCCTGTATTTTCCTGCTGGTGGCTCCAGTTCCGGAACAGTGAACCCTGTTCCGACTACTGCCTCACTC\")\n",
    "mrna=dna.transcribe()\n",
    "ptn=dna.translate()"
   ]
  },
  {
   "cell_type": "code",
   "execution_count": 26,
   "metadata": {
    "colab": {
     "base_uri": "https://localhost:8080/"
    },
    "id": "fsQKXtZZlLnJ",
    "outputId": "2c6538e6-602c-4c49-9ed9-481dcc79da15"
   },
   "outputs": [
    {
     "name": "stdout",
     "output_type": "stream",
     "text": [
      "UUCCACAACAUUCCACCAAGCUCUGCAGGAUCCCAGAGUAAGAGGCCUGUAUUUUCCUGCUGGUGGCUCCAGUUCCGGAACAGUGAACCCUGUUCCGACUACUGCCUCACUC\n"
     ]
    }
   ],
   "source": [
    "print(seq.transcribe())"
   ]
  },
  {
   "cell_type": "code",
   "execution_count": 27,
   "metadata": {
    "colab": {
     "base_uri": "https://localhost:8080/"
    },
    "id": "djB_qTmYlrvP",
    "outputId": "31cb1ece-4d68-4ea1-be51-abdcb6bc9e91"
   },
   "outputs": [
    {
     "name": "stdout",
     "output_type": "stream",
     "text": [
      "FHNIPPSSAGSQSKRPVFSCWWLQFRNSEPCSDYCLT\n"
     ]
    },
    {
     "name": "stderr",
     "output_type": "stream",
     "text": [
      "/usr/local/lib/python3.7/dist-packages/Bio/Seq.py:2983: BiopythonWarning: Partial codon, len(sequence) not a multiple of three. Explicitly trim the sequence or add trailing N before translation. This may become an error in future.\n",
      "  BiopythonWarning,\n"
     ]
    }
   ],
   "source": [
    "print(seq.translate())"
   ]
  },
  {
   "cell_type": "code",
   "execution_count": 28,
   "metadata": {
    "id": "3xse2l1OmJ4a"
   },
   "outputs": [],
   "source": [
    "from Bio.SeqUtils import GC"
   ]
  },
  {
   "cell_type": "code",
   "execution_count": 32,
   "metadata": {
    "colab": {
     "base_uri": "https://localhost:8080/"
    },
    "id": "tc88mkG2mSfy",
    "outputId": "4a9e7e07-9a16-47af-f95c-e587962d8c91"
   },
   "outputs": [
    {
     "name": "stdout",
     "output_type": "stream",
     "text": [
      "53.57142857142857\n"
     ]
    }
   ],
   "source": [
    "(exon_seq) = \"TTCCACAACATTCCACCAAGCTCTGCAGGATCCCAGAGTAAGAGGCCTGTATTTTCCTGCTGGTGGCTCCAGTTCCGGAACAGTGAACCCTGTTCCGACTACTGCCTCACTC\"\n",
    "gc_contents = GC(exon_seq)\n",
    "print(gc_contents)"
   ]
  },
  {
   "cell_type": "code",
   "execution_count": 33,
   "metadata": {
    "id": "egwGjmp1maVp"
   },
   "outputs": [],
   "source": [
    "from Bio.SeqUtils import MeltingTemp as mt"
   ]
  },
  {
   "cell_type": "code",
   "execution_count": 34,
   "metadata": {
    "id": "NepH4l-bnFvQ"
   },
   "outputs": [],
   "source": [
    "dna=Seq(\"TTCCACAACATTCCACCAAGCTCTGCAGGATCCCAGAGTAAGAGGCCTGTATTTTCCTGCTGGTGGCTCCAGTTCCGGAACAGTGAACCCTGTTCCGACTACTGCCTCACTC\")"
   ]
  },
  {
   "cell_type": "code",
   "execution_count": 35,
   "metadata": {
    "colab": {
     "base_uri": "https://localhost:8080/"
    },
    "id": "gDsmnx-knvps",
    "outputId": "c82c8ef7-cbae-451d-d6c9-f42a71f59010"
   },
   "outputs": [
    {
     "name": "stdout",
     "output_type": "stream",
     "text": [
      "344.0\n"
     ]
    }
   ],
   "source": [
    "print(mt.Tm_Wallace(seq))"
   ]
  },
  {
   "cell_type": "code",
   "execution_count": null,
   "metadata": {
    "id": "EZGCgWyRn1ot"
   },
   "outputs": [],
   "source": []
  }
 ],
 "metadata": {
  "colab": {
   "collapsed_sections": [],
   "name": "Untitled1.ipynb",
   "provenance": []
  },
  "kernelspec": {
   "display_name": "Python 3 (ipykernel)",
   "language": "python",
   "name": "python3"
  },
  "language_info": {
   "codemirror_mode": {
    "name": "ipython",
    "version": 3
   },
   "file_extension": ".py",
   "mimetype": "text/x-python",
   "name": "python",
   "nbconvert_exporter": "python",
   "pygments_lexer": "ipython3",
   "version": "3.9.12"
  }
 },
 "nbformat": 4,
 "nbformat_minor": 1
}

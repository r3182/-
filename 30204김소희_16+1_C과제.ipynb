{
 "cells": [
  {
   "cell_type": "code",
   "execution_count": 1,
   "metadata": {
    "colab": {
     "base_uri": "https://localhost:8080/"
    },
    "id": "g6hsoOaGeZHD",
    "outputId": "53dd4bfd-41a2-4918-f84c-67a39ab86255"
   },
   "outputs": [
    {
     "name": "stdout",
     "output_type": "stream",
     "text": [
      "ATGTGGTGGTGGTGGTGGTGGTGGTGGTGGTGGCAT\n"
     ]
    }
   ],
   "source": [
    "Met=\"ATG\"\n",
    "Trp=\"TGG\" *10\n",
    "His=\"CAT\"\n",
    "\n",
    "seq=Met+Trp+His\n",
    "print(seq)"
   ]
  },
  {
   "cell_type": "code",
   "execution_count": 5,
   "metadata": {
    "colab": {
     "base_uri": "https://localhost:8080/"
    },
    "id": "buQ4unH3eu2l",
    "outputId": "3b1ae714-fdae-4dad-ebd4-b0bdf99733c5"
   },
   "outputs": [
    {
     "name": "stdout",
     "output_type": "stream",
     "text": [
      "서열: ACTTTATAGCACGTCACGTACTTAACG\n",
      "상보적 서열: TGAAATATCGTGCAGTGCATGAATTGC\n"
     ]
    }
   ],
   "source": [
    "seq=\"ACTTTATAGCACGTCACGTACTTAACG\"\n",
    "new_seq=\"\"\n",
    "\n",
    "for s in seq:\n",
    "  if s == \"A\":\n",
    "    new_seq += \"T\"\n",
    "  elif s == \"C\":\n",
    "    new_seq += \"G\"\n",
    "  elif s == \"G\":\n",
    "    new_seq += \"C\"\n",
    "  elif s == \"T\":\n",
    "    new_seq += \"A\"\n",
    "\n",
    "print(\"서열:\",seq)\n",
    "print(\"상보적 서열:\", new_seq)\n"
   ]
  },
  {
   "cell_type": "code",
   "execution_count": 6,
   "metadata": {
    "colab": {
     "base_uri": "https://localhost:8080/"
    },
    "id": "S0rA1mn5fk1L",
    "outputId": "287333d2-aa98-40bb-f07a-193c478add6d"
   },
   "outputs": [
    {
     "name": "stdout",
     "output_type": "stream",
     "text": [
      "서열: AGTTTATAGCCGATCATCGAC\n",
      "상보적 서열: TCAAATATCGGCTAGTAGCTG\n",
      "역상보적 서열 GTCGATGATCGGCTATAAACT\n"
     ]
    }
   ],
   "source": [
    "seq = \"AGTTTATAGCCGATCATCGAC\"\n",
    "comp_dic = {'A':'T', 'C':'G', 'G':'C','T':'A'}\n",
    "comp_seq = \"\"\n",
    "\n",
    "for s in seq:\n",
    "  comp_seq += comp_dic[s]\n",
    "\n",
    "revcomp_seq = comp_seq[::-1]\n",
    "\n",
    "print(\"서열:\", seq)\n",
    "print(\"상보적 서열:\", comp_seq)\n",
    "print(\"역상보적 서열\", revcomp_seq)\n"
   ]
  },
  {
   "cell_type": "code",
   "execution_count": 8,
   "metadata": {
    "colab": {
     "base_uri": "https://localhost:8080/"
    },
    "id": "NRf8B5ttg9Gb",
    "outputId": "8effc1e5-ff09-4614-b3ac-bce537a950ae"
   },
   "outputs": [
    {
     "name": "stdout",
     "output_type": "stream",
     "text": [
      "Looking in indexes: https://pypi.org/simple, https://us-python.pkg.dev/colab-wheels/public/simple/\n",
      "Collecting biopython\n",
      "  Downloading biopython-1.79-cp37-cp37m-manylinux_2_5_x86_64.manylinux1_x86_64.whl (2.3 MB)\n",
      "\u001b[K     |████████████████████████████████| 2.3 MB 5.2 MB/s \n",
      "\u001b[?25hRequirement already satisfied: numpy in /usr/local/lib/python3.7/dist-packages (from biopython) (1.21.6)\n",
      "Installing collected packages: biopython\n",
      "Successfully installed biopython-1.79\n"
     ]
    }
   ],
   "source": [
    "try:\n",
    "    import google.colab\n",
    "    # Running on Google Colab, so install Biopython first\n",
    "    !pip install biopython\n",
    "except ImportError:\n",
    "    pass\n"
   ]
  },
  {
   "cell_type": "code",
   "execution_count": 9,
   "metadata": {
    "colab": {
     "base_uri": "https://localhost:8080/"
    },
    "id": "yS7IzK_HhkYV",
    "outputId": "7c795d7d-b8e0-45f7-f36e-587d72de0a59"
   },
   "outputs": [
    {
     "name": "stdout",
     "output_type": "stream",
     "text": [
      "Python version: sys.version_info(major=3, minor=7, micro=13, releaselevel='final', serial=0)\n",
      "Biopython version: 1.79\n"
     ]
    }
   ],
   "source": [
    "import os\n",
    "import sys\n",
    "\n",
    "from urllib.request import urlretrieve\n",
    "\n",
    "import Bio\n",
    "from Bio import SeqIO, SearchIO, Entrez\n",
    "from Bio.Seq import Seq\n",
    "from Bio.SeqUtils import GC\n",
    "from Bio.Blast import NCBIWWW\n",
    "from Bio.Data import CodonTable\n",
    "\n",
    "print(\"Python version:\", sys.version_info)\n",
    "print(\"Biopython version:\", Bio.__version__)"
   ]
  },
  {
   "cell_type": "code",
   "execution_count": 10,
   "metadata": {
    "id": "5s5yHOAdg6rZ"
   },
   "outputs": [],
   "source": [
    "seq = Seq(\"TTCCACAACATTCCACCAAGCTCTGCAGGATCCCAGAGTAAGAGGCCTGTATTTTCCTGCTGGTGGCTCCAGTTCCGGAACAGTGAACCCTGTTCCGACTACTGCCTCACTC\")"
   ]
  },
  {
   "cell_type": "code",
   "execution_count": 12,
   "metadata": {
    "colab": {
     "base_uri": "https://localhost:8080/"
    },
    "id": "kuVAXfiShuuk",
    "outputId": "31cce7fc-e537-4f32-ba67-17a5fc69dee9"
   },
   "outputs": [
    {
     "name": "stdout",
     "output_type": "stream",
     "text": [
      "24\n"
     ]
    }
   ],
   "source": [
    "#문제 4, 염기 A의 개수는?\n",
    "print(seq.count(\"A\"))"
   ]
  },
  {
   "cell_type": "code",
   "execution_count": 14,
   "metadata": {
    "colab": {
     "base_uri": "https://localhost:8080/"
    },
    "id": "1VqNyZ2eh2Rx",
    "outputId": "8e91c48e-3fdb-43f9-9ae9-0030c76d3d6d"
   },
   "outputs": [
    {
     "name": "stdout",
     "output_type": "stream",
     "text": [
      "112\n"
     ]
    }
   ],
   "source": [
    "#문제 5, seq의 서열길이(총 염기서열)의 개수는?\n",
    "print(len(seq))"
   ]
  },
  {
   "cell_type": "code",
   "execution_count": 15,
   "metadata": {
    "colab": {
     "base_uri": "https://localhost:8080/"
    },
    "id": "7I5QOjEVh9t6",
    "outputId": "f961440b-e293-4383-d916-fe977ddab8a2"
   },
   "outputs": [
    {
     "name": "stdout",
     "output_type": "stream",
     "text": [
      "AAGGTGTTGTAAGGTGGTTCGAGACGTCCTAGGGTCTCATTCTCCGGACATAAAAGGACGACCACCGAGGTCAAGGCCTTGTCACTTGGGACAAGGCTGATGACGGAGTGAG\n"
     ]
    }
   ],
   "source": [
    "#문제 6, seq의 상보적 서열은?\n",
    "print(seq.complement())"
   ]
  },
  {
   "cell_type": "code",
   "execution_count": 16,
   "metadata": {
    "colab": {
     "base_uri": "https://localhost:8080/"
    },
    "id": "utCbmXI4iLTo",
    "outputId": "fb3803f6-fd82-457c-e8b3-9f0893c6c646"
   },
   "outputs": [
    {
     "name": "stdout",
     "output_type": "stream",
     "text": [
      "UUCCACAACAUUCCACCAAGCUCUGCAGGAUCCCAGAGUAAGAGGCCUGUAUUUUCCUGCUGGUGGCUCCAGUUCCGGAACAGUGAACCCUGUUCCGACUACUGCCUCACUC\n"
     ]
    }
   ],
   "source": [
    "#문제 7, seq의 RNA 서열은?\n",
    "print(seq.transcribe())"
   ]
  },
  {
   "cell_type": "code",
   "execution_count": 26,
   "metadata": {
    "colab": {
     "base_uri": "https://localhost:8080/"
    },
    "id": "9VncV-IliUGz",
    "outputId": "2ca65275-1278-463b-8c88-03a1966cd77b"
   },
   "outputs": [
    {
     "name": "stdout",
     "output_type": "stream",
     "text": [
      "FHNIPPSSAGSQSKRPVFSCWWLQFRNSEPCSDYCLT\n"
     ]
    },
    {
     "name": "stderr",
     "output_type": "stream",
     "text": [
      "/usr/local/lib/python3.7/dist-packages/Bio/Seq.py:2983: BiopythonWarning: Partial codon, len(sequence) not a multiple of three. Explicitly trim the sequence or add trailing N before translation. This may become an error in future.\n",
      "  BiopythonWarning,\n"
     ]
    }
   ],
   "source": [
    "#문제 8, seq의 아미노산 서열은?\n",
    "seq_animo=seq.translate()\n",
    "print(seq_animo)"
   ]
  },
  {
   "cell_type": "code",
   "execution_count": 27,
   "metadata": {
    "colab": {
     "base_uri": "https://localhost:8080/"
    },
    "id": "fXyqREmDido5",
    "outputId": "8fdcf583-ae4c-4e12-8ad5-c9c67d79f6cc"
   },
   "outputs": [
    {
     "name": "stdout",
     "output_type": "stream",
     "text": [
      "53.57142857142857\n"
     ]
    }
   ],
   "source": [
    "from Bio.SeqUtils import GC\n",
    "#문제 9, GC 함량은 몇 % 인가?\n",
    "gc_contents=GC(seq)\n",
    "print(gc_contents)"
   ]
  },
  {
   "cell_type": "code",
   "execution_count": 28,
   "metadata": {
    "colab": {
     "base_uri": "https://localhost:8080/"
    },
    "id": "Pjwgtk28kxb2",
    "outputId": "32a7134c-6a2b-4e2a-c8db-4747634a179b"
   },
   "outputs": [
    {
     "name": "stdout",
     "output_type": "stream",
     "text": [
      "344.0\n"
     ]
    }
   ],
   "source": [
    "from Bio.SeqUtils import MeltingTemp as mt\n",
    "#문제 10, Tm 값은?\n",
    "print(mt.Tm_Wallace(seq))"
   ]
  },
  {
   "cell_type": "code",
   "execution_count": 29,
   "metadata": {
    "colab": {
     "base_uri": "https://localhost:8080/"
    },
    "id": "zMSwrbnblK0v",
    "outputId": "9242b837-fa3b-4099-c881-3e6fa64b39e0"
   },
   "outputs": [
    {
     "name": "stdout",
     "output_type": "stream",
     "text": [
      "작성자: 청학고등학교 3-2 4번 김소희\n"
     ]
    }
   ],
   "source": [
    "Name=\"김소희\"\n",
    "Number=\"4번\"\n",
    "Class=\"3-2\"\n",
    "School=\"청학고등학교\"\n",
    "\n",
    "print('작성자:',School,Class,Number,Name)"
   ]
  }
 ],
 "metadata": {
  "colab": {
   "name": "30204김소희_16+1 C과제",
   "provenance": []
  },
  "kernelspec": {
   "display_name": "Python 3 (ipykernel)",
   "language": "python",
   "name": "python3"
  },
  "language_info": {
   "codemirror_mode": {
    "name": "ipython",
    "version": 3
   },
   "file_extension": ".py",
   "mimetype": "text/x-python",
   "name": "python",
   "nbconvert_exporter": "python",
   "pygments_lexer": "ipython3",
   "version": "3.9.12"
  }
 },
 "nbformat": 4,
 "nbformat_minor": 1
}

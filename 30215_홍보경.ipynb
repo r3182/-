{
 "cells": [
  {
   "cell_type": "code",
   "execution_count": null,
   "metadata": {
    "colab": {
     "base_uri": "https://localhost:8080/"
    },
    "id": "bKsbR-T1tNCh",
    "outputId": "8c35dc96-8c04-4632-e850-49ba65879dfa"
   },
   "outputs": [
    {
     "name": "stdout",
     "output_type": "stream",
     "text": [
      "ATGTGGTGGTGGTGGTGGTGGTGGTGGTGGTGGCAT\n"
     ]
    }
   ],
   "source": [
    "Met=\"ATG\"\n",
    "Trp=\"TGG\" * 10\n",
    "His=\"CAT\"\n",
    "\n",
    "seq = Met+Trp+His\n",
    "print(seq)"
   ]
  },
  {
   "cell_type": "code",
   "execution_count": null,
   "metadata": {
    "colab": {
     "base_uri": "https://localhost:8080/"
    },
    "id": "oe6iIsM7trk3",
    "outputId": "50fb6d93-31dc-48ad-83dd-d5940d86ae31"
   },
   "outputs": [
    {
     "name": "stdout",
     "output_type": "stream",
     "text": [
      "서열: AGTTTATAGCACGTCACGTACTTAACG\n",
      "상보적 서열: TCAAATATCGTGCAGTGCATGAATTGC\n"
     ]
    }
   ],
   "source": [
    "seq=\"AGTTTATAGCACGTCACGTACTTAACG\"\n",
    "new_seq=\"\"\n",
    "\n",
    "for s in seq:\n",
    "  if s == \"A\":\n",
    "    new_seq += \"T\"\n",
    "  elif s == \"C\":\n",
    "    new_seq += \"G\"\n",
    "  elif s == \"G\":\n",
    "    new_seq += \"C\"\n",
    "  elif s == \"T\":\n",
    "    new_seq += \"A\"\n",
    "print(\"서열:\",seq)\n",
    "print(\"상보적 서열:\", new_seq)"
   ]
  },
  {
   "cell_type": "code",
   "execution_count": null,
   "metadata": {
    "colab": {
     "base_uri": "https://localhost:8080/"
    },
    "id": "Mm4vy0lfvlWV",
    "outputId": "b1a26052-9882-455c-f1de-52f534744888"
   },
   "outputs": [
    {
     "name": "stdout",
     "output_type": "stream",
     "text": [
      "서열: AGTTTATAGCCGATCATCGAC\n",
      "상보적 서열: TCAAATATCGGCTAGTAGCTG\n",
      "역상보적 서열: GTCGATGATCGGCTATAAACT\n"
     ]
    }
   ],
   "source": [
    "seq = \"AGTTTATAGCCGATCATCGAC\"\n",
    "comp_dic = {'A':'T', 'C':'G','G':'C','T':'A'}\n",
    "comp_seq = \"\"\n",
    "\n",
    "for s in seq:\n",
    "  comp_seq += comp_dic[s]\n",
    "\n",
    "revcomp_seq = comp_seq[::-1]\n",
    "\n",
    "print(\"서열:\",seq)\n",
    "print(\"상보적 서열:\",comp_seq)\n",
    "print(\"역상보적 서열:\",revcomp_seq)"
   ]
  },
  {
   "cell_type": "code",
   "execution_count": null,
   "metadata": {
    "colab": {
     "base_uri": "https://localhost:8080/"
    },
    "id": "O_d31-FEvtBg",
    "outputId": "f19c66ab-7076-4f96-f5ae-cc1bb6cb8d72"
   },
   "outputs": [
    {
     "name": "stdout",
     "output_type": "stream",
     "text": [
      "Looking in indexes: https://pypi.org/simple, https://us-python.pkg.dev/colab-wheels/public/simple/\n",
      "Collecting biopython\n",
      "  Downloading biopython-1.79-cp37-cp37m-manylinux_2_5_x86_64.manylinux1_x86_64.whl (2.3 MB)\n",
      "\u001b[K     |████████████████████████████████| 2.3 MB 30.9 MB/s \n",
      "\u001b[?25hRequirement already satisfied: numpy in /usr/local/lib/python3.7/dist-packages (from biopython) (1.21.6)\n",
      "Installing collected packages: biopython\n",
      "Successfully installed biopython-1.79\n"
     ]
    }
   ],
   "source": [
    "try:\n",
    "    import google.colab\n",
    "    # Running on Google Colab, so install Biopython first\n",
    "    !pip install biopython\n",
    "except ImportError:\n",
    "    pass"
   ]
  },
  {
   "cell_type": "code",
   "execution_count": 15,
   "metadata": {
    "colab": {
     "base_uri": "https://localhost:8080/"
    },
    "id": "0s_F_JVryAYu",
    "outputId": "904c3434-b302-4c8d-d18f-844cd86b2004"
   },
   "outputs": [
    {
     "name": "stdout",
     "output_type": "stream",
     "text": [
      "Python version: sys.version_info(major=3, minor=7, micro=13, releaselevel='final', serial=0)\n",
      "Biopython version: 1.79\n"
     ]
    }
   ],
   "source": [
    "import os\n",
    "import sys\n",
    "\n",
    "from urllib.request import urlretrieve\n",
    "\n",
    "import Bio\n",
    "from Bio import SeqIO, SearchIO, Entrez\n",
    "from Bio.Seq import Seq\n",
    "from Bio.SeqUtils import GC\n",
    "from Bio.Blast import NCBIWWW\n",
    "from Bio.Data import CodonTable\n",
    "\n",
    "print(\"Python version:\", sys.version_info)\n",
    "print(\"Biopython version:\", Bio.__version__)"
   ]
  },
  {
   "cell_type": "code",
   "execution_count": 16,
   "metadata": {
    "colab": {
     "base_uri": "https://localhost:8080/"
    },
    "id": "WuLeW43Py1se",
    "outputId": "e09951bc-979e-4b17-eda3-9189c9fa922b"
   },
   "outputs": [
    {
     "name": "stdout",
     "output_type": "stream",
     "text": [
      "24\n"
     ]
    }
   ],
   "source": [
    "from Bio.Seq import Seq\n",
    "seq = Seq(\"TTCCACAACATTCCACCAAGCTCTGCAGGATCCCAGAGTAAGAGGCCTGTATTTTCCTGCTGGTGGCTCCAGTTCCGGAACAGTGAACCCTGTTCCGACTACTGCCTCACTC\")\n",
    "print(seq.count(\"A\"))"
   ]
  },
  {
   "cell_type": "code",
   "execution_count": 19,
   "metadata": {
    "colab": {
     "base_uri": "https://localhost:8080/"
    },
    "id": "ONztZG2JzYBx",
    "outputId": "fc1338e9-7fc5-41df-caf1-c842d7c60d51"
   },
   "outputs": [
    {
     "name": "stdout",
     "output_type": "stream",
     "text": [
      "112\n"
     ]
    }
   ],
   "source": [
    "print(len(seq))"
   ]
  },
  {
   "cell_type": "code",
   "execution_count": 21,
   "metadata": {
    "colab": {
     "base_uri": "https://localhost:8080/"
    },
    "id": "6AQk4N7nzhsr",
    "outputId": "25423ba5-949e-4902-b381-8c2db3730f00"
   },
   "outputs": [
    {
     "name": "stdout",
     "output_type": "stream",
     "text": [
      "AAGGTGTTGTAAGGTGGTTCGAGACGTCCTAGGGTCTCATTCTCCGGACATAAAAGGACGACCACCGAGGTCAAGGCCTTGTCACTTGGGACAAGGCTGATGACGGAGTGAG\n"
     ]
    }
   ],
   "source": [
    "print(seq.complement())"
   ]
  },
  {
   "cell_type": "code",
   "execution_count": 22,
   "metadata": {
    "colab": {
     "base_uri": "https://localhost:8080/"
    },
    "id": "fjC4sdLRzpRz",
    "outputId": "08d537e7-c5be-45d7-9ac5-98fadcd240f5"
   },
   "outputs": [
    {
     "name": "stdout",
     "output_type": "stream",
     "text": [
      "AAGGUGUUGUAAGGUGGUUCGAGACGUCCUAGGGUCUCAUUCUCCGGACAUAAAAGGACGACCACCGAGGUCAAGGCCUUGUCACUUGGGACAAGGCUGAUGACGGAGUGAG\n"
     ]
    }
   ],
   "source": [
    "print(seq.complement_rna())"
   ]
  },
  {
   "cell_type": "code",
   "execution_count": 23,
   "metadata": {
    "colab": {
     "base_uri": "https://localhost:8080/"
    },
    "id": "zSIVxLwYzxHM",
    "outputId": "dceebc7a-ad8e-4f39-d08b-d2b8704e4c39"
   },
   "outputs": [
    {
     "name": "stdout",
     "output_type": "stream",
     "text": [
      "FHNIPPSSAGSQSKRPVFSCWWLQFRNSEPCSDYCLT\n"
     ]
    },
    {
     "name": "stderr",
     "output_type": "stream",
     "text": [
      "/usr/local/lib/python3.7/dist-packages/Bio/Seq.py:2983: BiopythonWarning: Partial codon, len(sequence) not a multiple of three. Explicitly trim the sequence or add trailing N before translation. This may become an error in future.\n",
      "  BiopythonWarning,\n"
     ]
    }
   ],
   "source": [
    "print(seq.translate())"
   ]
  },
  {
   "cell_type": "code",
   "execution_count": 26,
   "metadata": {
    "colab": {
     "base_uri": "https://localhost:8080/"
    },
    "id": "rcyAipxvz31t",
    "outputId": "a3cbf435-670d-497a-ef90-cf3bbb3a67cd"
   },
   "outputs": [
    {
     "name": "stdout",
     "output_type": "stream",
     "text": [
      "53.57142857142857\n"
     ]
    }
   ],
   "source": [
    "from Bio.SeqUtils import GC\n",
    "(exon_seq)=(\"TTCCACAACATTCCACCAAGCTCTGCAGGATCCCAGAGTAAGAGGCCTGTATTTTCCTGCTGGTGGCTCCAGTTCCGGAACAGTGAACCCTGTTCCGACTACTGCCTCACTC\")\n",
    "gc_contents = GC(exon_seq)\n",
    "print(gc_contents)"
   ]
  },
  {
   "cell_type": "code",
   "execution_count": 27,
   "metadata": {
    "colab": {
     "base_uri": "https://localhost:8080/"
    },
    "id": "Ka4gN27t0GF8",
    "outputId": "233a1df4-1691-4ed6-da78-c7bca9ae8fc2"
   },
   "outputs": [
    {
     "name": "stdout",
     "output_type": "stream",
     "text": [
      "344.0\n"
     ]
    }
   ],
   "source": [
    "from Bio.SeqUtils import MeltingTemp as mt\n",
    "dna=Seq(\"TTCCACAACATTCCACCAAGCTCTGCAGGATCCCAGAGTAAGAGGCCTGTATTTTCCTGCTGGTGGCTCCAGTTCCGGAACAGTGAACCCTGTTCCGACTACTGCCTCACTC\")\n",
    "print(mt.Tm_Wallace(seq))"
   ]
  },
  {
   "cell_type": "code",
   "execution_count": null,
   "metadata": {
    "id": "2LAaBlT-0sYR"
   },
   "outputs": [],
   "source": []
  }
 ],
 "metadata": {
  "colab": {
   "name": "Untitled1.ipynb",
   "provenance": []
  },
  "kernelspec": {
   "display_name": "Python 3 (ipykernel)",
   "language": "python",
   "name": "python3"
  },
  "language_info": {
   "codemirror_mode": {
    "name": "ipython",
    "version": 3
   },
   "file_extension": ".py",
   "mimetype": "text/x-python",
   "name": "python",
   "nbconvert_exporter": "python",
   "pygments_lexer": "ipython3",
   "version": "3.9.12"
  }
 },
 "nbformat": 4,
 "nbformat_minor": 1
}

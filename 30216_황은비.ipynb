{
 "cells": [
  {
   "cell_type": "code",
   "execution_count": 3,
   "metadata": {
    "colab": {
     "base_uri": "https://localhost:8080/"
    },
    "id": "mfUQTunv9r4n",
    "outputId": "cf8b3f48-152f-431b-91fc-9383cb3029db"
   },
   "outputs": [
    {
     "name": "stdout",
     "output_type": "stream",
     "text": [
      "ATGTGGTGGTGGTGGTGGTGGTGGTGGTGGTGGCAT\n"
     ]
    }
   ],
   "source": [
    "Met=\"ATG\"\n",
    "Trp=\"TGG\" *10\n",
    "His=\"CAT\"\n",
    "\n",
    "seq = Met+Trp+His\n",
    "print(seq)"
   ]
  },
  {
   "cell_type": "code",
   "execution_count": 1,
   "metadata": {
    "colab": {
     "base_uri": "https://localhost:8080/"
    },
    "id": "1G94p4lu-k3_",
    "outputId": "248eefbd-53de-4372-f508-c6c950ddd785"
   },
   "outputs": [
    {
     "name": "stdout",
     "output_type": "stream",
     "text": [
      "서열: AGTTTATAGCACGTCACGTACTTAACG\n",
      "상보적 서열: TCAAATATCGTGCAGTGCATGAATTGC\n"
     ]
    }
   ],
   "source": [
    "seq=\"AGTTTATAGCACGTCACGTACTTAACG\"  \n",
    "new_seq=\"\"\n",
    "\n",
    "for s in seq:\n",
    "    if s == \"A\":\n",
    "        new_seq +=\"T\"\n",
    "    elif s == \"C\":\n",
    "        new_seq +=\"G\"\n",
    "    elif s == \"G\":\n",
    "        new_seq +=\"C\"\n",
    "    elif s == \"T\":\n",
    "        new_seq +=\"A\"\n",
    "        \n",
    "print(\"서열:\",seq)\n",
    "print(\"상보적 서열:\", new_seq)"
   ]
  },
  {
   "cell_type": "code",
   "execution_count": 2,
   "metadata": {
    "colab": {
     "base_uri": "https://localhost:8080/"
    },
    "id": "jgBzjS-2-paO",
    "outputId": "d86bf1e1-14fd-4d06-f45b-642ee22616ae"
   },
   "outputs": [
    {
     "name": "stdout",
     "output_type": "stream",
     "text": [
      "서열: AGTTTATAGCCGATCATCGAC\n",
      "상보적 서열: TCAAATATCGGCTAGTAGCTG\n",
      "역상보적 서열 GTCGATGATCGGCTATAAACT\n"
     ]
    }
   ],
   "source": [
    "seq = \"AGTTTATAGCCGATCATCGAC\"\n",
    "comp_dic = {'A':'T', 'C':'G','G':'C','T':'A'}\n",
    "comp_seq = \"\"\n",
    "\n",
    "for s in seq:\n",
    "    comp_seq += comp_dic[s]\n",
    "\n",
    "revcomp_seq = comp_seq[::-1]\n",
    "\n",
    "print(\"서열:\",seq)\n",
    "print(\"상보적 서열:\",comp_seq)\n",
    "print(\"역상보적 서열\",revcomp_seq)"
   ]
  },
  {
   "cell_type": "code",
   "execution_count": 4,
   "metadata": {
    "colab": {
     "base_uri": "https://localhost:8080/"
    },
    "id": "kvJuysyh_BNu",
    "outputId": "c357bf41-7e51-4c61-9e2b-3c8a5f2831bc"
   },
   "outputs": [
    {
     "name": "stdout",
     "output_type": "stream",
     "text": [
      "Looking in indexes: https://pypi.org/simple, https://us-python.pkg.dev/colab-wheels/public/simple/\n",
      "Collecting biopython\n",
      "  Downloading biopython-1.79-cp37-cp37m-manylinux_2_5_x86_64.manylinux1_x86_64.whl (2.3 MB)\n",
      "\u001b[K     |████████████████████████████████| 2.3 MB 5.4 MB/s \n",
      "\u001b[?25hRequirement already satisfied: numpy in /usr/local/lib/python3.7/dist-packages (from biopython) (1.21.6)\n",
      "Installing collected packages: biopython\n",
      "Successfully installed biopython-1.79\n"
     ]
    }
   ],
   "source": [
    "try:\n",
    "    import google.colab\n",
    "    # Running on Google Colab, so install Biopython first\n",
    "    !pip install biopython\n",
    "except ImportError:\n",
    "    pass"
   ]
  },
  {
   "cell_type": "code",
   "execution_count": 5,
   "metadata": {
    "colab": {
     "base_uri": "https://localhost:8080/"
    },
    "id": "_KmUG1af_kzm",
    "outputId": "36fc3b59-83bb-4117-9438-e466c833f50e"
   },
   "outputs": [
    {
     "name": "stdout",
     "output_type": "stream",
     "text": [
      "Python version: sys.version_info(major=3, minor=7, micro=13, releaselevel='final', serial=0)\n",
      "Biopython version: 1.79\n"
     ]
    }
   ],
   "source": [
    "import os\n",
    "import sys\n",
    "\n",
    "from urllib.request import urlretrieve\n",
    "\n",
    "import Bio\n",
    "from Bio import SeqIO, SearchIO, Entrez\n",
    "from Bio.Seq import Seq\n",
    "from Bio.SeqUtils import GC\n",
    "from Bio.Blast import NCBIWWW\n",
    "from Bio.Data import CodonTable\n",
    "\n",
    "print(\"Python version:\", sys.version_info)\n",
    "print(\"Biopython version:\", Bio.__version__)"
   ]
  },
  {
   "cell_type": "code",
   "execution_count": 8,
   "metadata": {
    "colab": {
     "base_uri": "https://localhost:8080/"
    },
    "id": "euY7Esx3_rrS",
    "outputId": "50c2f514-9b17-4282-e932-159704e96432"
   },
   "outputs": [
    {
     "name": "stdout",
     "output_type": "stream",
     "text": [
      "24\n"
     ]
    }
   ],
   "source": [
    "from Bio.Seq import Seq\n",
    "seq = Seq(\"TTCCACAACATTCCACCAAGCTCTGCAGGATCCCAGAGTAAGAGGCCTGTATTTTCCTGCTGGTGGCTCCAGTTCCGGAACAGTGAACCCTGTTCCGACTACTGCCTCACTC\")\n",
    "print(seq.count(\"A\"))\n"
   ]
  },
  {
   "cell_type": "code",
   "execution_count": 9,
   "metadata": {
    "colab": {
     "base_uri": "https://localhost:8080/"
    },
    "id": "QoCWoU42AIsq",
    "outputId": "5858498b-6eae-4015-f180-82ca74c12791"
   },
   "outputs": [
    {
     "name": "stdout",
     "output_type": "stream",
     "text": [
      "112\n"
     ]
    }
   ],
   "source": [
    "print(len(seq))\n"
   ]
  },
  {
   "cell_type": "code",
   "execution_count": 10,
   "metadata": {
    "colab": {
     "base_uri": "https://localhost:8080/"
    },
    "id": "iph_HjA-AQUa",
    "outputId": "e6776053-15a1-4929-a602-61ddadfd2577"
   },
   "outputs": [
    {
     "name": "stdout",
     "output_type": "stream",
     "text": [
      "AAGGTGTTGTAAGGTGGTTCGAGACGTCCTAGGGTCTCATTCTCCGGACATAAAAGGACGACCACCGAGGTCAAGGCCTTGTCACTTGGGACAAGGCTGATGACGGAGTGAG\n"
     ]
    }
   ],
   "source": [
    "print(seq.complement())\n"
   ]
  },
  {
   "cell_type": "code",
   "execution_count": 11,
   "metadata": {
    "colab": {
     "base_uri": "https://localhost:8080/"
    },
    "id": "H44M_AtuAmHA",
    "outputId": "256f412a-d3e7-4f57-b056-31b5de46ecd7"
   },
   "outputs": [
    {
     "name": "stdout",
     "output_type": "stream",
     "text": [
      "AAGGUGUUGUAAGGUGGUUCGAGACGUCCUAGGGUCUCAUUCUCCGGACAUAAAAGGACGACCACCGAGGUCAAGGCCUUGUCACUUGGGACAAGGCUGAUGACGGAGUGAG\n"
     ]
    }
   ],
   "source": [
    "print(seq.complement_rna())"
   ]
  },
  {
   "cell_type": "code",
   "execution_count": 12,
   "metadata": {
    "colab": {
     "base_uri": "https://localhost:8080/"
    },
    "id": "3d-NTGa3BGtN",
    "outputId": "728af62b-5d25-4c8d-af75-1bf7bb0720d6"
   },
   "outputs": [
    {
     "name": "stdout",
     "output_type": "stream",
     "text": [
      "FHNIPPSSAGSQSKRPVFSCWWLQFRNSEPCSDYCLT\n"
     ]
    },
    {
     "name": "stderr",
     "output_type": "stream",
     "text": [
      "/usr/local/lib/python3.7/dist-packages/Bio/Seq.py:2983: BiopythonWarning: Partial codon, len(sequence) not a multiple of three. Explicitly trim the sequence or add trailing N before translation. This may become an error in future.\n",
      "  BiopythonWarning,\n"
     ]
    }
   ],
   "source": [
    "print(seq.translate())"
   ]
  },
  {
   "cell_type": "code",
   "execution_count": 20,
   "metadata": {
    "colab": {
     "base_uri": "https://localhost:8080/"
    },
    "id": "5ylfXQCFBMu8",
    "outputId": "e51167ff-178b-42c2-92e8-2e8c197efeb3"
   },
   "outputs": [
    {
     "name": "stdout",
     "output_type": "stream",
     "text": [
      "53.57142857142857\n"
     ]
    }
   ],
   "source": [
    "from Bio.SeqUtils import GC\n",
    "(exon_seq) = (\"TTCCACAACATTCCACCAAGCTCTGCAGGATCCCAGAGTAAGAGGCCTGTATTTTCCTGCTGGTGGCTCCAGTTCCGGAACAGTGAACCCTGTTCCGACTACTGCCTCACTC\")\n",
    "gc_contents = GC(exon_seq)\n",
    "print(gc_contents)"
   ]
  },
  {
   "cell_type": "code",
   "execution_count": 22,
   "metadata": {
    "colab": {
     "base_uri": "https://localhost:8080/"
    },
    "id": "kqCzr_41BWiV",
    "outputId": "6d2b4d39-8bfc-438e-f18f-da0aaba3031d"
   },
   "outputs": [
    {
     "name": "stdout",
     "output_type": "stream",
     "text": [
      "344.0\n"
     ]
    }
   ],
   "source": [
    "from Bio.SeqUtils import MeltingTemp as mt\n",
    "dna=Seq(\"TTCCACAACATTCCACCAAGCTCTGCAGGATCCCAGAGTAAGAGGCCTGTATTTTCCTGCTGGTGGCTCCAGTTCCGGAACAGTGAACCCTGTTCCGACTACTGCCTCACTC\")\n",
    "print(mt.Tm_Wallace(seq))"
   ]
  }
 ],
 "metadata": {
  "colab": {
   "collapsed_sections": [],
   "name": "30216 황은비",
   "provenance": []
  },
  "kernelspec": {
   "display_name": "Python 3 (ipykernel)",
   "language": "python",
   "name": "python3"
  },
  "language_info": {
   "codemirror_mode": {
    "name": "ipython",
    "version": 3
   },
   "file_extension": ".py",
   "mimetype": "text/x-python",
   "name": "python",
   "nbconvert_exporter": "python",
   "pygments_lexer": "ipython3",
   "version": "3.9.12"
  }
 },
 "nbformat": 4,
 "nbformat_minor": 1
}

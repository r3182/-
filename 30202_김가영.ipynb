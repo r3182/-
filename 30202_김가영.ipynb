{
 "cells": [
  {
   "cell_type": "code",
   "execution_count": 1,
   "metadata": {
    "colab": {
     "base_uri": "https://localhost:8080/"
    },
    "id": "C8I77fRkrtwZ",
    "outputId": "de75e457-a4dd-4fdd-dcf9-0ea0018f7e71"
   },
   "outputs": [
    {
     "name": "stdout",
     "output_type": "stream",
     "text": [
      "Looking in indexes: https://pypi.org/simple, https://us-python.pkg.dev/colab-wheels/public/simple/\n",
      "Collecting biopython\n",
      "  Downloading biopython-1.79-cp37-cp37m-manylinux_2_5_x86_64.manylinux1_x86_64.whl (2.3 MB)\n",
      "\u001b[K     |████████████████████████████████| 2.3 MB 4.4 MB/s \n",
      "\u001b[?25hRequirement already satisfied: numpy in /usr/local/lib/python3.7/dist-packages (from biopython) (1.21.6)\n",
      "Installing collected packages: biopython\n",
      "Successfully installed biopython-1.79\n"
     ]
    }
   ],
   "source": [
    "try:\n",
    "    import google.colab\n",
    "    # Running on Google Colab, so install Biopython first\n",
    "    !pip install biopython\n",
    "except ImportError:\n",
    "    pass"
   ]
  },
  {
   "cell_type": "code",
   "execution_count": 3,
   "metadata": {
    "colab": {
     "base_uri": "https://localhost:8080/"
    },
    "id": "doPsL4WasFRr",
    "outputId": "ba890d1c-30df-450d-bf05-f509b186a726"
   },
   "outputs": [
    {
     "name": "stdout",
     "output_type": "stream",
     "text": [
      "Python version: sys.version_info(major=3, minor=7, micro=13, releaselevel='final', serial=0)\n",
      "Biopython version: 1.79\n"
     ]
    }
   ],
   "source": [
    "import os\n",
    "import sys\n",
    "\n",
    "from urllib.request import urlretrieve\n",
    "\n",
    "import Bio\n",
    "from Bio import SeqIO, SearchIO, Entrez\n",
    "from Bio.Seq import Seq\n",
    "from Bio.SeqUtils import GC\n",
    "from Bio.Blast import NCBIWWW\n",
    "from Bio.Data import CodonTable\n",
    "\n",
    "print(\"Python version:\", sys.version_info)\n",
    "print(\"Biopython version:\", Bio.__version__)"
   ]
  },
  {
   "cell_type": "code",
   "execution_count": 4,
   "metadata": {
    "colab": {
     "base_uri": "https://localhost:8080/"
    },
    "id": "DThGZlfzsGu7",
    "outputId": "a1730dd4-dd48-46d9-813e-46f8d9a79d5c"
   },
   "outputs": [
    {
     "name": "stdout",
     "output_type": "stream",
     "text": [
      "ATGTGGTGGTGGTGGTGGTGGTGGTGGTGGTGGCAT\n"
     ]
    }
   ],
   "source": [
    "Met= \"ATG\"\n",
    "Trp= \"TGG\" * 10\n",
    "His = \"CAT\"\n",
    "\n",
    "seq = Met+Trp+His\n",
    "print(seq)\n"
   ]
  },
  {
   "cell_type": "code",
   "execution_count": 6,
   "metadata": {
    "colab": {
     "base_uri": "https://localhost:8080/"
    },
    "id": "WxrUwdtCsa4U",
    "outputId": "37a18cd5-929d-425a-bf3e-085d6b913285"
   },
   "outputs": [
    {
     "name": "stdout",
     "output_type": "stream",
     "text": [
      "서열: AGTTTATAGCACGTCACGTACTTAACG\n",
      "상보적 서열:  TCAAATATCGTGCAGTGCATGAATTGC\n"
     ]
    }
   ],
   "source": [
    "seq= \"AGTTTATAGCACGTCACGTACTTAACG\"\n",
    "new_seq=\" \"\n",
    "for s in seq: \n",
    "  if s == \"A\" :\n",
    "    new_seq +=\"T\"\n",
    "  elif s == \"C\" :\n",
    "    new_seq += \"G\"\n",
    "  elif s == \"G\" :\n",
    "    new_seq += \"C\"\n",
    "  elif s == \"T\" :\n",
    "    new_seq += \"A\"\n",
    "  \n",
    "print(\"서열:\", seq)\n",
    "print(\"상보적 서열:\", new_seq)\n",
    "  "
   ]
  },
  {
   "cell_type": "code",
   "execution_count": 8,
   "metadata": {
    "colab": {
     "base_uri": "https://localhost:8080/"
    },
    "id": "g-Z035pYswub",
    "outputId": "e8a93e77-61e8-43d8-8dd3-79ebdaec6531"
   },
   "outputs": [
    {
     "name": "stdout",
     "output_type": "stream",
     "text": [
      "서열: AGTTTATAGCCGATCATCGAC\n",
      "상보적 서열:  TCAAATATCGGCTAGTAGCTG\n",
      "역상보적 서열 GTCGATGATCGGCTATAAACT \n"
     ]
    }
   ],
   "source": [
    "seq = \"AGTTTATAGCCGATCATCGAC\"\n",
    "comp_dic = {'A' : 'T', 'C' : 'G', 'G' : 'C', 'T' : 'A'}\n",
    "comp_seq = \" \"\n",
    "\n",
    "for s in seq:\n",
    "  comp_seq += comp_dic[s]\n",
    "\n",
    "revcomp_seq = comp_seq[ : : -1]\n",
    "\n",
    "print(\"서열:\", seq)\n",
    "print(\"상보적 서열:\", comp_seq)\n",
    "print(\"역상보적 서열\", revcomp_seq)"
   ]
  },
  {
   "cell_type": "code",
   "execution_count": 22,
   "metadata": {
    "colab": {
     "base_uri": "https://localhost:8080/"
    },
    "id": "ZroaEaSovLYf",
    "outputId": "31eb9a71-89b6-4768-f39a-16d60f7cc229"
   },
   "outputs": [
    {
     "name": "stdout",
     "output_type": "stream",
     "text": [
      "24\n",
      "112\n",
      "AAGGTGTTGTAAGGTGGTTCGAGACGTCCTAGGGTCTCATTCTCCGGACATAAAAGGACGACCACCGAGGTCAAGGCCTTGTCACTTGGGACAAGGCTGATGACGGAGTGAG\n",
      "UUCCACAACAUUCCACCAAGCUCUGCAGGAUCCCAGAGUAAGAGGCCUGUAUUUUCCUGCUGGUGGCUCCAGUUCCGGAACAGUGAACCCUGUUCCGACUACUGCCUCACUC\n",
      "FHNIPPSSAGSQSKRPVFSCWWLQFRNSEPCSDYCLT\n"
     ]
    },
    {
     "name": "stderr",
     "output_type": "stream",
     "text": [
      "/usr/local/lib/python3.7/dist-packages/Bio/Seq.py:2983: BiopythonWarning: Partial codon, len(sequence) not a multiple of three. Explicitly trim the sequence or add trailing N before translation. This may become an error in future.\n",
      "  BiopythonWarning,\n"
     ]
    }
   ],
   "source": [
    "from Bio.Seq import Seq\n",
    "seq = Seq(\"TTCCACAACATTCCACCAAGCTCTGCAGGATCCCAGAGTAAGAGGCCTGTATTTTCCTGCTGGTGGCTCCAGTTCCGGAACAGTGAACCCTGTTCCGACTACTGCCTCACTC\")\n",
    "\n",
    "print(seq.count(\"A\"))\n",
    "\n",
    "print(len(seq))\n",
    "\n",
    "print(seq.complement())\n",
    "\n",
    "print(seq.transcribe())\n",
    "\n",
    "print(seq.translate())\n"
   ]
  },
  {
   "cell_type": "code",
   "execution_count": 26,
   "metadata": {
    "colab": {
     "base_uri": "https://localhost:8080/"
    },
    "id": "8BUK2wLlxc-w",
    "outputId": "58bd6dae-a394-43b8-93fc-e13b21c4b07d"
   },
   "outputs": [
    {
     "name": "stdout",
     "output_type": "stream",
     "text": [
      "53.57142857142857\n",
      "344.0\n"
     ]
    }
   ],
   "source": [
    "from Bio.SeqUtils import GC\n",
    "gc_contents = GC(seq)\n",
    "print(gc_contents)\n",
    "\n",
    "from Bio.SeqUtils import MeltingTemp as mt\n",
    "print(mt.Tm_Wallace(seq))"
   ]
  },
  {
   "cell_type": "code",
   "execution_count": null,
   "metadata": {
    "id": "ycAe2RUH4E7h"
   },
   "outputs": [],
   "source": []
  }
 ],
 "metadata": {
  "colab": {
   "name": "Untitled0.ipynb",
   "provenance": []
  },
  "kernelspec": {
   "display_name": "Python 3 (ipykernel)",
   "language": "python",
   "name": "python3"
  },
  "language_info": {
   "codemirror_mode": {
    "name": "ipython",
    "version": 3
   },
   "file_extension": ".py",
   "mimetype": "text/x-python",
   "name": "python",
   "nbconvert_exporter": "python",
   "pygments_lexer": "ipython3",
   "version": "3.9.12"
  }
 },
 "nbformat": 4,
 "nbformat_minor": 1
}

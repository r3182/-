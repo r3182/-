{
 "cells": [
  {
   "cell_type": "code",
   "execution_count": 1,
   "metadata": {
    "colab": {
     "base_uri": "https://localhost:8080/"
    },
    "id": "YfoN0vr08puU",
    "outputId": "7edb35b2-84ae-497a-ec44-40f2efa637a0"
   },
   "outputs": [
    {
     "name": "stdout",
     "output_type": "stream",
     "text": [
      "ATGTGGTGGTGGTGGTGGTGGTGGTGGTGGTGGCAT\n"
     ]
    }
   ],
   "source": [
    "Met=\"ATG\"\n",
    "Trp=\"TGG\" *10\n",
    "His=\"CAT\"\n",
    "\n",
    "seq = Met+Trp+His\n",
    "print(seq)"
   ]
  },
  {
   "cell_type": "code",
   "execution_count": 2,
   "metadata": {
    "colab": {
     "base_uri": "https://localhost:8080/"
    },
    "id": "yIBHL4G39lSV",
    "outputId": "e8816d16-e192-4f4f-995d-f3c2622b42ef"
   },
   "outputs": [
    {
     "name": "stdout",
     "output_type": "stream",
     "text": [
      "서열: AGTTTATAGCACGTCACGTACTTAACG\n",
      "상보적 서열: TCAAATATCGTGCAGTGCATGAATTGC\n"
     ]
    }
   ],
   "source": [
    "seq=\"AGTTTATAGCACGTCACGTACTTAACG\"  \n",
    "new_seq=\"\"\n",
    "\n",
    "for s in seq:\n",
    "    if s == \"A\":\n",
    "        new_seq +=\"T\"\n",
    "    elif s == \"C\":\n",
    "        new_seq +=\"G\"\n",
    "    elif s == \"G\":\n",
    "        new_seq +=\"C\"\n",
    "    elif s == \"T\":\n",
    "        new_seq +=\"A\"\n",
    "        \n",
    "print(\"서열:\",seq)\n",
    "print(\"상보적 서열:\", new_seq)"
   ]
  },
  {
   "cell_type": "code",
   "execution_count": 8,
   "metadata": {
    "colab": {
     "base_uri": "https://localhost:8080/"
    },
    "id": "jz6jCWRe-Ryd",
    "outputId": "476c4bd2-c1f0-420e-a6f2-3b5d9f768146"
   },
   "outputs": [
    {
     "name": "stdout",
     "output_type": "stream",
     "text": [
      "서열: AGTTTATAGCCGATCATCGAC\n",
      "상보적 서열: TCAAATATCGGCTAGTAGCTG\n",
      "역상보적 서열 GTCGATGATCGGCTATAAACT\n"
     ]
    }
   ],
   "source": [
    "seq = \"AGTTTATAGCCGATCATCGAC\"\n",
    "comp_dic = {'A':'T', 'C':'G','G':'C','T':'A'}\n",
    "comp_seq = \"\"\n",
    "\n",
    "for s in seq:\n",
    "    comp_seq += comp_dic[s]\n",
    "\n",
    "revcomp_seq = comp_seq[::-1]\n",
    "\n",
    "print(\"서열:\",seq)\n",
    "print(\"상보적 서열:\",comp_seq)\n",
    "print(\"역상보적 서열\",revcomp_seq)"
   ]
  },
  {
   "cell_type": "code",
   "execution_count": 9,
   "metadata": {
    "colab": {
     "base_uri": "https://localhost:8080/"
    },
    "id": "CFz9OPQO_Rdh",
    "outputId": "1044f3f2-0fe6-4bb1-d832-8458faf9850a"
   },
   "outputs": [
    {
     "name": "stdout",
     "output_type": "stream",
     "text": [
      "Looking in indexes: https://pypi.org/simple, https://us-python.pkg.dev/colab-wheels/public/simple/\n",
      "Collecting biopython\n",
      "  Downloading biopython-1.79-cp37-cp37m-manylinux_2_5_x86_64.manylinux1_x86_64.whl (2.3 MB)\n",
      "\u001b[K     |████████████████████████████████| 2.3 MB 5.0 MB/s \n",
      "\u001b[?25hRequirement already satisfied: numpy in /usr/local/lib/python3.7/dist-packages (from biopython) (1.21.6)\n",
      "Installing collected packages: biopython\n",
      "Successfully installed biopython-1.79\n"
     ]
    }
   ],
   "source": [
    "try:\n",
    "    import google.colab\n",
    "    # Running on Google Colab, so install Biopython first\n",
    "    !pip install biopython\n",
    "except ImportError:\n",
    "    pass"
   ]
  },
  {
   "cell_type": "code",
   "execution_count": 11,
   "metadata": {
    "colab": {
     "base_uri": "https://localhost:8080/"
    },
    "id": "N-50K_F1_9sr",
    "outputId": "67d0749e-2073-4f6f-d59a-111290c344e8"
   },
   "outputs": [
    {
     "name": "stdout",
     "output_type": "stream",
     "text": [
      "Python version: sys.version_info(major=3, minor=7, micro=13, releaselevel='final', serial=0)\n",
      "Biopython version: 1.79\n"
     ]
    }
   ],
   "source": [
    "import os\n",
    "import sys\n",
    "\n",
    "from urllib.request import urlretrieve\n",
    "\n",
    "import Bio\n",
    "from Bio import SeqIO, SearchIO, Entrez\n",
    "from Bio.Seq import Seq\n",
    "from Bio.SeqUtils import GC\n",
    "from Bio.Blast import NCBIWWW\n",
    "from Bio.Data import CodonTable\n",
    "\n",
    "print(\"Python version:\", sys.version_info)\n",
    "print(\"Biopython version:\", Bio.__version__)"
   ]
  },
  {
   "cell_type": "code",
   "execution_count": 15,
   "metadata": {
    "colab": {
     "base_uri": "https://localhost:8080/"
    },
    "id": "M8VPKkdNADs9",
    "outputId": "15317d88-7740-40f5-dfd6-79921a0734ca"
   },
   "outputs": [
    {
     "name": "stdout",
     "output_type": "stream",
     "text": [
      "24\n"
     ]
    }
   ],
   "source": [
    "from Bio.Seq import Seq\n",
    "seq = Seq(\"TTCCACAACATTCCACCAAGCTCTGCAGGATCCCAGAGTAAGAGGCCTGTATTTTCCTGCTGGTGGCTCCAGTTCCGGAACAGTGAACCCTGTTCCGACTACTGCCTCACTC\")\n",
    "print(seq.count(\"A\"))"
   ]
  },
  {
   "cell_type": "code",
   "execution_count": 16,
   "metadata": {
    "colab": {
     "base_uri": "https://localhost:8080/"
    },
    "id": "lyed6DLJCCKn",
    "outputId": "2ab4abb9-f256-422e-c786-349e2897296a"
   },
   "outputs": [
    {
     "name": "stdout",
     "output_type": "stream",
     "text": [
      "112\n"
     ]
    }
   ],
   "source": [
    "print(len(seq))"
   ]
  },
  {
   "cell_type": "code",
   "execution_count": 19,
   "metadata": {
    "colab": {
     "base_uri": "https://localhost:8080/"
    },
    "id": "1ElpXCNsCyXz",
    "outputId": "0193d133-591f-47f4-c2e7-8796f66ac14c"
   },
   "outputs": [
    {
     "name": "stdout",
     "output_type": "stream",
     "text": [
      "<bound method Seq.complement of Seq('TTCCACAACATTCCACCAAGCTCTGCAGGATCCCAGAGTAAGAGGCCTGTATTT...CTC')>\n"
     ]
    }
   ],
   "source": [
    "print(seq.complement)"
   ]
  },
  {
   "cell_type": "code",
   "execution_count": 20,
   "metadata": {
    "colab": {
     "base_uri": "https://localhost:8080/"
    },
    "id": "_U7hMNs9EHpN",
    "outputId": "caf93192-1936-4ca8-9bd6-9181b6438b3f"
   },
   "outputs": [
    {
     "name": "stdout",
     "output_type": "stream",
     "text": [
      "AAGGUGUUGUAAGGUGGUUCGAGACGUCCUAGGGUCUCAUUCUCCGGACAUAAAAGGACGACCACCGAGGUCAAGGCCUUGUCACUUGGGACAAGGCUGAUGACGGAGUGAG\n"
     ]
    }
   ],
   "source": [
    "print(seq.complement_rna())"
   ]
  },
  {
   "cell_type": "code",
   "execution_count": 21,
   "metadata": {
    "colab": {
     "base_uri": "https://localhost:8080/"
    },
    "id": "eimCTZqqEQDn",
    "outputId": "0e345bfc-7d62-4708-a29a-de57c37996e0"
   },
   "outputs": [
    {
     "name": "stdout",
     "output_type": "stream",
     "text": [
      "FHNIPPSSAGSQSKRPVFSCWWLQFRNSEPCSDYCLT\n"
     ]
    },
    {
     "name": "stderr",
     "output_type": "stream",
     "text": [
      "/usr/local/lib/python3.7/dist-packages/Bio/Seq.py:2983: BiopythonWarning: Partial codon, len(sequence) not a multiple of three. Explicitly trim the sequence or add trailing N before translation. This may become an error in future.\n",
      "  BiopythonWarning,\n"
     ]
    }
   ],
   "source": [
    "print(seq.translate())"
   ]
  },
  {
   "cell_type": "code",
   "execution_count": 33,
   "metadata": {
    "colab": {
     "base_uri": "https://localhost:8080/"
    },
    "id": "A-GWKSPoEUbR",
    "outputId": "930a35dd-de1c-4cbb-b3b0-373498863ff9"
   },
   "outputs": [
    {
     "name": "stdout",
     "output_type": "stream",
     "text": [
      "53.57142857142857\n"
     ]
    }
   ],
   "source": [
    "from Bio.SeqUtils import GC\n",
    "(exon_seq)=(\"TTCCACAACATTCCACCAAGCTCTGCAGGATCCCAGAGTAAGAGGCCTGTATTTTCCTGCTGGTGGCTCCAGTTCCGGAACAGTGAACCCTGTTCCGACTACTGCCTCACTC\")\n",
    "gc_contents = GC(exon_seq)\n",
    "print(gc_contents)"
   ]
  },
  {
   "cell_type": "code",
   "execution_count": 35,
   "metadata": {
    "colab": {
     "base_uri": "https://localhost:8080/"
    },
    "id": "1dpgJnhfEsze",
    "outputId": "66520e8b-4712-42a0-e32c-48070429ffc9"
   },
   "outputs": [
    {
     "name": "stdout",
     "output_type": "stream",
     "text": [
      "344.0\n"
     ]
    }
   ],
   "source": [
    "from Bio.SeqUtils import MeltingTemp as mt\n",
    "dna=Seq(\"TTCCACAACATTCCACCAAGCTCTGCAGGATCCCAGAGTAAGAGGCCTGTATTTTCCTGCTGGTGGCTCCAGTTCCGGAACAGTGAACCCTGTTCCGACTACTGCCTCACTC\")\n",
    "print(mt.Tm_Wallace(seq))"
   ]
  },
  {
   "cell_type": "code",
   "execution_count": null,
   "metadata": {
    "id": "dTFwKhA7Fg3a"
   },
   "outputs": [],
   "source": []
  }
 ],
 "metadata": {
  "colab": {
   "name": "30203 김나연",
   "provenance": []
  },
  "kernelspec": {
   "display_name": "Python 3 (ipykernel)",
   "language": "python",
   "name": "python3"
  },
  "language_info": {
   "codemirror_mode": {
    "name": "ipython",
    "version": 3
   },
   "file_extension": ".py",
   "mimetype": "text/x-python",
   "name": "python",
   "nbconvert_exporter": "python",
   "pygments_lexer": "ipython3",
   "version": "3.9.12"
  }
 },
 "nbformat": 4,
 "nbformat_minor": 1
}

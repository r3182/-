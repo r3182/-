{
  "nbformat": 4,
  "nbformat_minor": 0,
  "metadata": {
    "colab": {
      "name": "30205 김예빈",
      "provenance": []
    },
    "kernelspec": {
      "name": "python3",
      "display_name": "Python 3"
    },
    "language_info": {
      "name": "python"
    }
  },
  "cells": [
    {
      "cell_type": "code",
      "source": [
        "try:\n",
        "    import google.colab\n",
        "    # Running on Google Colab, so install Biopython first\n",
        "    !pip install biopython\n",
        "except ImportError:\n",
        "    pass"
      ],
      "metadata": {
        "colab": {
          "base_uri": "https://localhost:8080/"
        },
        "id": "xgH2C63nflnL",
        "outputId": "42e6e818-85b6-4e59-cbbb-bb23c9049da1"
      },
      "execution_count": 9,
      "outputs": [
        {
          "output_type": "stream",
          "name": "stdout",
          "text": [
            "Looking in indexes: https://pypi.org/simple, https://us-python.pkg.dev/colab-wheels/public/simple/\n",
            "Collecting biopython\n",
            "  Downloading biopython-1.79-cp37-cp37m-manylinux_2_5_x86_64.manylinux1_x86_64.whl (2.3 MB)\n",
            "\u001b[K     |████████████████████████████████| 2.3 MB 25.7 MB/s \n",
            "\u001b[?25hRequirement already satisfied: numpy in /usr/local/lib/python3.7/dist-packages (from biopython) (1.21.6)\n",
            "Installing collected packages: biopython\n",
            "Successfully installed biopython-1.79\n"
          ]
        }
      ]
    },
    {
      "cell_type": "code",
      "source": [
        "import os\n",
        "import sys\n",
        "\n",
        "from urllib.request import urlretrieve\n",
        "\n",
        "import Bio\n",
        "from Bio import SeqIO, SearchIO, Entrez\n",
        "from Bio.Seq import Seq\n",
        "from Bio.SeqUtils import GC\n",
        "from Bio.Blast import NCBIWWW\n",
        "from Bio.Data import CodonTable\n",
        "\n",
        "print(\"Python version:\", sys.version_info)\n",
        "print(\"Biopython version:\", Bio.__version__)"
      ],
      "metadata": {
        "colab": {
          "base_uri": "https://localhost:8080/"
        },
        "id": "7gsyuiFxgcW6",
        "outputId": "71e2fa9d-dca0-4254-a907-cfeed7179ccc"
      },
      "execution_count": 10,
      "outputs": [
        {
          "output_type": "stream",
          "name": "stdout",
          "text": [
            "Python version: sys.version_info(major=3, minor=7, micro=13, releaselevel='final', serial=0)\n",
            "Biopython version: 1.79\n"
          ]
        }
      ]
    },
    {
      "cell_type": "code",
      "execution_count": 1,
      "metadata": {
        "colab": {
          "base_uri": "https://localhost:8080/"
        },
        "id": "ADNpn0eHe9Gu",
        "outputId": "4b9015b2-2b17-4b55-df75-73ab2a88bb42"
      },
      "outputs": [
        {
          "output_type": "stream",
          "name": "stdout",
          "text": [
            "ATGTGGTGGTGGTGGTGGTGGTGGTGGTGGTGGCAT\n"
          ]
        }
      ],
      "source": [
        "Met=\"ATG\"\n",
        "Trp=\"TGG\" *10\n",
        "His=\"CAT\"\n",
        "\n",
        "seq = Met+Trp+His\n",
        "print(seq)"
      ]
    },
    {
      "cell_type": "code",
      "source": [
        "seq=\"AGTTTATAGCACGTCACGTACTTAACG\"  \n",
        "new_seq=\"\"\n",
        "\n",
        "for s in seq:\n",
        "    if s == \"A\":\n",
        "        new_seq +=\"T\"\n",
        "    elif s == \"C\":\n",
        "        new_seq +=\"G\"\n",
        "    elif s == \"G\":\n",
        "        new_seq +=\"C\"\n",
        "    elif s == \"T\":\n",
        "        new_seq +=\"A\"\n",
        "        \n",
        "print(\"서열:\",seq)\n",
        "print(\"상보적 서열:\", new_seq)"
      ],
      "metadata": {
        "colab": {
          "base_uri": "https://localhost:8080/"
        },
        "id": "6FhiQG8wfC82",
        "outputId": "7351b6be-8ca8-41ee-ef44-0681bf029cdd"
      },
      "execution_count": 2,
      "outputs": [
        {
          "output_type": "stream",
          "name": "stdout",
          "text": [
            "서열: AGTTTATAGCACGTCACGTACTTAACG\n",
            "상보적 서열: TCAAATATCGTGCAGTGCATGAATTGC\n"
          ]
        }
      ]
    },
    {
      "cell_type": "code",
      "source": [
        "seq = \"AGTTTATAGCCGATCATCGAC\"\n",
        "comp_dic = {'A':'T','C':'G','G':'C','T':'A'}\n",
        "comp_seq = \"\"\n",
        "\n",
        "for s in seq:\n",
        "    comp_seq += comp_dic[s]\n",
        "\n",
        "revcomp_seq = comp_seq[::-1]\n",
        "\n",
        "print(\"서열:\",seq)\n",
        "print(\"상보적 서열:\",comp_seq)\n",
        "print(\"역상보적 서열\",revcomp_seq)"
      ],
      "metadata": {
        "colab": {
          "base_uri": "https://localhost:8080/"
        },
        "id": "INoKm7tmfLEa",
        "outputId": "63180312-5e73-4851-f060-1fe1697bab8b"
      },
      "execution_count": 6,
      "outputs": [
        {
          "output_type": "stream",
          "name": "stdout",
          "text": [
            "서열: AGTTTATAGCCGATCATCGAC\n",
            "상보적 서열: TCAAATATCGGCTAGTAGCTG\n",
            "역상보적 서열 GTCGATGATCGGCTATAAACT\n"
          ]
        }
      ]
    },
    {
      "cell_type": "code",
      "source": [
        "from Bio.Seq import Seq\n",
        "seq = Seq(\"TTCCACAACATTCCACCAAGCTCTGCAGGATCCCAGAGTAAGAGGCCTGTATTTTCCTGCTGGTGGCTCCAGTTCCGGAACAGTGAACCCTGTTCCGACTACTGCCTCACTC\")"
      ],
      "metadata": {
        "id": "1YhcQH5cgm2F"
      },
      "execution_count": 11,
      "outputs": []
    },
    {
      "cell_type": "code",
      "source": [
        "print(seq.count(\"A\"))"
      ],
      "metadata": {
        "colab": {
          "base_uri": "https://localhost:8080/"
        },
        "id": "MeqvVgkigrP_",
        "outputId": "1380e9ef-c423-499b-a421-a4d395075838"
      },
      "execution_count": 12,
      "outputs": [
        {
          "output_type": "stream",
          "name": "stdout",
          "text": [
            "24\n"
          ]
        }
      ]
    },
    {
      "cell_type": "code",
      "source": [
        "print(len(seq))"
      ],
      "metadata": {
        "colab": {
          "base_uri": "https://localhost:8080/"
        },
        "id": "SWGfjnCIgwSt",
        "outputId": "39ce9276-12c3-4e96-e5b4-016d44b98e17"
      },
      "execution_count": 14,
      "outputs": [
        {
          "output_type": "stream",
          "name": "stdout",
          "text": [
            "112\n"
          ]
        }
      ]
    },
    {
      "cell_type": "code",
      "source": [
        "print(seq.complement())"
      ],
      "metadata": {
        "colab": {
          "base_uri": "https://localhost:8080/"
        },
        "id": "XqUZrKE0hQTs",
        "outputId": "9669fc15-6d06-4896-8501-c749304bf816"
      },
      "execution_count": 16,
      "outputs": [
        {
          "output_type": "stream",
          "name": "stdout",
          "text": [
            "AAGGTGTTGTAAGGTGGTTCGAGACGTCCTAGGGTCTCATTCTCCGGACATAAAAGGACGACCACCGAGGTCAAGGCCTTGTCACTTGGGACAAGGCTGATGACGGAGTGAG\n"
          ]
        }
      ]
    },
    {
      "cell_type": "code",
      "source": [
        "print(seq.transcribe())"
      ],
      "metadata": {
        "colab": {
          "base_uri": "https://localhost:8080/"
        },
        "id": "Zk6p845thYug",
        "outputId": "eaacf970-6fc1-4394-8afa-fb980747a2cd"
      },
      "execution_count": 17,
      "outputs": [
        {
          "output_type": "stream",
          "name": "stdout",
          "text": [
            "UUCCACAACAUUCCACCAAGCUCUGCAGGAUCCCAGAGUAAGAGGCCUGUAUUUUCCUGCUGGUGGCUCCAGUUCCGGAACAGUGAACCCUGUUCCGACUACUGCCUCACUC\n"
          ]
        }
      ]
    },
    {
      "cell_type": "code",
      "source": [
        "print(seq.translate())"
      ],
      "metadata": {
        "colab": {
          "base_uri": "https://localhost:8080/"
        },
        "id": "T9L_cbB1hmfm",
        "outputId": "dcc503e9-9b93-4f39-c07a-77ac6889f76a"
      },
      "execution_count": 19,
      "outputs": [
        {
          "output_type": "stream",
          "name": "stdout",
          "text": [
            "FHNIPPSSAGSQSKRPVFSCWWLQFRNSEPCSDYCLT\n"
          ]
        },
        {
          "output_type": "stream",
          "name": "stderr",
          "text": [
            "/usr/local/lib/python3.7/dist-packages/Bio/Seq.py:2983: BiopythonWarning: Partial codon, len(sequence) not a multiple of three. Explicitly trim the sequence or add trailing N before translation. This may become an error in future.\n",
            "  BiopythonWarning,\n"
          ]
        }
      ]
    },
    {
      "cell_type": "code",
      "source": [
        "from Bio.SeqUtils import GC"
      ],
      "metadata": {
        "id": "olb3vxxeh9QJ"
      },
      "execution_count": 20,
      "outputs": []
    },
    {
      "cell_type": "code",
      "source": [
        "gc_contents=GC(seq)\n",
        "print(gc_contents)"
      ],
      "metadata": {
        "colab": {
          "base_uri": "https://localhost:8080/"
        },
        "id": "ndwnnY8iiJr3",
        "outputId": "f2abdd4b-b33d-4fd8-b463-28b76dbdb6c5"
      },
      "execution_count": 23,
      "outputs": [
        {
          "output_type": "stream",
          "name": "stdout",
          "text": [
            "53.57142857142857\n"
          ]
        }
      ]
    },
    {
      "cell_type": "code",
      "source": [
        "from Bio.SeqUtils import MeltingTemp as mt\n"
      ],
      "metadata": {
        "id": "NbZ1p6vliTcu"
      },
      "execution_count": 24,
      "outputs": []
    },
    {
      "cell_type": "code",
      "source": [
        "print(mt.Tm_Wallace(seq))"
      ],
      "metadata": {
        "colab": {
          "base_uri": "https://localhost:8080/"
        },
        "id": "d11HcyxciWtm",
        "outputId": "a2bba3cb-f1ad-4da0-d0d6-ac8a71b46830"
      },
      "execution_count": 25,
      "outputs": [
        {
          "output_type": "stream",
          "name": "stdout",
          "text": [
            "344.0\n"
          ]
        }
      ]
    }
  ]
}